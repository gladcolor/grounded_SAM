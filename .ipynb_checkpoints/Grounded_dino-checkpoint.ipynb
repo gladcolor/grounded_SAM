{
 "cells": [
  {
   "cell_type": "markdown",
   "id": "8a4307bb-418d-4866-a568-c5c8e769fb11",
   "metadata": {},
   "source": [
    "# Install DINO"
   ]
  },
  {
   "cell_type": "code",
   "execution_count": 3,
   "id": "03ea3cf1-dce9-4c41-b3f6-6f6103053450",
   "metadata": {},
   "outputs": [
    {
     "name": "stdout",
     "output_type": "stream",
     "text": [
      "Fri Oct 20 20:28:20 2023       \n",
      "+---------------------------------------------------------------------------------------+\n",
      "| NVIDIA-SMI 545.23.06              Driver Version: 545.23.06    CUDA Version: 12.3     |\n",
      "|-----------------------------------------+----------------------+----------------------+\n",
      "| GPU  Name                 Persistence-M | Bus-Id        Disp.A | Volatile Uncorr. ECC |\n",
      "| Fan  Temp   Perf          Pwr:Usage/Cap |         Memory-Usage | GPU-Util  Compute M. |\n",
      "|                                         |                      |               MIG M. |\n",
      "|=========================================+======================+======================|\n",
      "|   0  NVIDIA GeForce GTX 1080 Ti     On  | 00000000:02:00.0  On |                  N/A |\n",
      "| 20%   53C    P0              65W / 250W |    483MiB / 11264MiB |      2%      Default |\n",
      "|                                         |                      |                  N/A |\n",
      "+-----------------------------------------+----------------------+----------------------+\n",
      "                                                                                         \n",
      "+---------------------------------------------------------------------------------------+\n",
      "| Processes:                                                                            |\n",
      "|  GPU   GI   CI        PID   Type   Process name                            GPU Memory |\n",
      "|        ID   ID                                                             Usage      |\n",
      "|=======================================================================================|\n",
      "|    0   N/A  N/A      1723      G   /usr/lib/xorg/Xorg                          183MiB |\n",
      "|    0   N/A  N/A      1857      G   /usr/bin/gnome-shell                        108MiB |\n",
      "|    0   N/A  N/A      3405      G   ...33432157,4514054776843520509,131072      167MiB |\n",
      "|    0   N/A  N/A     10511      G   ...ures=SpareRendererForSitePerProcess       17MiB |\n",
      "+---------------------------------------------------------------------------------------+\n"
     ]
    }
   ],
   "source": [
    "!nvidia-smi"
   ]
  },
  {
   "cell_type": "code",
   "execution_count": 4,
   "id": "9b2bc99a-7772-474c-8745-161275dc23ef",
   "metadata": {},
   "outputs": [
    {
     "name": "stdout",
     "output_type": "stream",
     "text": [
      "HOME: /media/huan/HD16T/Research/grounded_SAM\n"
     ]
    }
   ],
   "source": [
    "import os\n",
    "HOME = os.getcwd()\n",
    "print(\"HOME:\", HOME)"
   ]
  },
  {
   "cell_type": "code",
   "execution_count": null,
   "id": "d6812054-28b9-4032-ad9b-1c8fcb539f87",
   "metadata": {},
   "outputs": [],
   "source": []
  },
  {
   "cell_type": "code",
   "execution_count": null,
   "id": "b33988c8-3ada-4da4-b9f4-3b257d70373b",
   "metadata": {},
   "outputs": [],
   "source": []
  },
  {
   "cell_type": "code",
   "execution_count": null,
   "id": "6b840379-e6b6-414f-bc23-79b08a08f164",
   "metadata": {},
   "outputs": [],
   "source": []
  },
  {
   "cell_type": "code",
   "execution_count": null,
   "id": "62d24550-b1a6-4c26-9990-8601384c2551",
   "metadata": {},
   "outputs": [],
   "source": []
  }
 ],
 "metadata": {
  "kernelspec": {
   "display_name": "dino",
   "language": "python",
   "name": "dino"
  },
  "language_info": {
   "codemirror_mode": {
    "name": "ipython",
    "version": 3
   },
   "file_extension": ".py",
   "mimetype": "text/x-python",
   "name": "python",
   "nbconvert_exporter": "python",
   "pygments_lexer": "ipython3",
   "version": "3.11.5"
  }
 },
 "nbformat": 4,
 "nbformat_minor": 5
}
